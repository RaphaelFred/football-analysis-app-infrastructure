{
 "cells": [
  {
   "cell_type": "code",
   "execution_count": null,
   "id": "28477a4c-43b8-4ca0-a514-64a196c9ae50",
   "metadata": {},
   "outputs": [],
   "source": [
    "import psycopg2 as pg\n",
    "import pandas.io.sql as psql\n",
    "connection = pg.connect(\"host=localhost dbname=kinder user=your_username password=your_password\")\n",
    "dataframe = psql.read_sql('SELECT * FROM product_product', connection)\n",
    "product_category = psql.read_sql_query('select * from product_category', connection)"
   ]
  }
 ],
 "metadata": {
  "kernelspec": {
   "display_name": "Python 3 (ipykernel)",
   "language": "python",
   "name": "python3"
  },
  "language_info": {
   "codemirror_mode": {
    "name": "ipython",
    "version": 3
   },
   "file_extension": ".py",
   "mimetype": "text/x-python",
   "name": "python",
   "nbconvert_exporter": "python",
   "pygments_lexer": "ipython3",
   "version": "3.10.5"
  }
 },
 "nbformat": 4,
 "nbformat_minor": 5
}
